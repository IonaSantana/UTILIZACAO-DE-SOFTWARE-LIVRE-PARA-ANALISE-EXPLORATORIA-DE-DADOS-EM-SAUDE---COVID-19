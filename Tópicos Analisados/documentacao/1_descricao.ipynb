{
 "cells": [
  {
   "cell_type": "markdown",
   "metadata": {},
   "source": [
    "## Descrição do que contém cada arquivo"
   ]
  },
  {
   "cell_type": "markdown",
   "metadata": {},
   "source": [
    "### Instalação Python"
   ]
  },
  {
   "cell_type": "markdown",
   "metadata": {},
   "source": [
    "#### WINDOWS"
   ]
  },
  {
   "cell_type": "markdown",
   "metadata": {},
   "source": [
    "Primeiro instalar o Python:\n",
    "https://python.org.br/instalacao-windows/\n",
    "\n",
    "Segundo instalar o jupyter notebook\n",
    "https://acervolima.com/como-instalar-o-jupyter-notebook-no-windows/"
   ]
  },
  {
   "cell_type": "markdown",
   "metadata": {},
   "source": [
    "#### MAC\n"
   ]
  },
  {
   "cell_type": "markdown",
   "metadata": {},
   "source": [
    "Primeiro instalar o Python:\n",
    "https://python.org.br/instalacao-mac/\n",
    "\n",
    "Segundo instalar o jupyter notebook\n",
    "https://www.digitalocean.com/community/tutorials/how-to-install-run-connect-to-jupyter-notebook-on-remote-server-pt"
   ]
  },
  {
   "cell_type": "markdown",
   "metadata": {},
   "source": [
    "### Bibliotecas\n"
   ]
  },
  {
   "cell_type": "markdown",
   "metadata": {},
   "source": [
    "Arquivo requirements.txt\n",
    "\n",
    "- Bibliotecas necessárias para executar a análise - pode adicionar ou retirar quantas forem necessárias\n",
    "- Bastar usar o comando: !pip install -r requirements.txt - só executar a célula abaixo\n",
    "\n",
    "Comentário no python para uma linha é #, o que for escrito a frente não será executado\n",
    "Comentário no python para várias linhas: ''' o que vem entre as aspas não interfere no código também '''"
   ]
  },
  {
   "cell_type": "code",
   "execution_count": 3,
   "metadata": {},
   "outputs": [
    {
     "name": "stdout",
     "output_type": "stream",
     "text": [
      "Requirement already satisfied: nbformat in /Users/ionasantana/opt/anaconda3/lib/python3.9/site-packages (from -r requirements.txt (line 1)) (5.1.3)\n",
      "Requirement already satisfied: numpy in /Users/ionasantana/opt/anaconda3/lib/python3.9/site-packages (from -r requirements.txt (line 2)) (1.19.3)\n",
      "Requirement already satisfied: matplotlib in /Users/ionasantana/opt/anaconda3/lib/python3.9/site-packages (from -r requirements.txt (line 3)) (3.4.3)\n",
      "Requirement already satisfied: seaborn in /Users/ionasantana/opt/anaconda3/lib/python3.9/site-packages (from -r requirements.txt (line 4)) (0.11.2)\n",
      "Requirement already satisfied: statsmodels in /Users/ionasantana/opt/anaconda3/lib/python3.9/site-packages (from -r requirements.txt (line 5)) (0.12.2)\n",
      "Requirement already satisfied: jupyter-core in /Users/ionasantana/opt/anaconda3/lib/python3.9/site-packages (from nbformat->-r requirements.txt (line 1)) (4.8.1)\n",
      "Requirement already satisfied: traitlets>=4.1 in /Users/ionasantana/opt/anaconda3/lib/python3.9/site-packages (from nbformat->-r requirements.txt (line 1)) (5.1.0)\n",
      "Requirement already satisfied: jsonschema!=2.5.0,>=2.4 in /Users/ionasantana/opt/anaconda3/lib/python3.9/site-packages (from nbformat->-r requirements.txt (line 1)) (3.2.0)\n",
      "Requirement already satisfied: ipython-genutils in /Users/ionasantana/opt/anaconda3/lib/python3.9/site-packages (from nbformat->-r requirements.txt (line 1)) (0.2.0)\n",
      "Requirement already satisfied: cycler>=0.10 in /Users/ionasantana/opt/anaconda3/lib/python3.9/site-packages (from matplotlib->-r requirements.txt (line 3)) (0.10.0)\n",
      "Requirement already satisfied: pyparsing>=2.2.1 in /Users/ionasantana/opt/anaconda3/lib/python3.9/site-packages (from matplotlib->-r requirements.txt (line 3)) (3.0.4)\n",
      "Requirement already satisfied: pillow>=6.2.0 in /Users/ionasantana/opt/anaconda3/lib/python3.9/site-packages (from matplotlib->-r requirements.txt (line 3)) (8.4.0)\n",
      "Requirement already satisfied: python-dateutil>=2.7 in /Users/ionasantana/opt/anaconda3/lib/python3.9/site-packages (from matplotlib->-r requirements.txt (line 3)) (2.8.2)\n",
      "Requirement already satisfied: kiwisolver>=1.0.1 in /Users/ionasantana/opt/anaconda3/lib/python3.9/site-packages (from matplotlib->-r requirements.txt (line 3)) (1.3.1)\n",
      "Requirement already satisfied: scipy>=1.0 in /Users/ionasantana/opt/anaconda3/lib/python3.9/site-packages (from seaborn->-r requirements.txt (line 4)) (1.7.1)\n",
      "Requirement already satisfied: pandas>=0.23 in /Users/ionasantana/opt/anaconda3/lib/python3.9/site-packages (from seaborn->-r requirements.txt (line 4)) (1.3.4)\n",
      "Requirement already satisfied: patsy>=0.5 in /Users/ionasantana/opt/anaconda3/lib/python3.9/site-packages (from statsmodels->-r requirements.txt (line 5)) (0.5.2)\n",
      "Requirement already satisfied: six in /Users/ionasantana/opt/anaconda3/lib/python3.9/site-packages (from cycler>=0.10->matplotlib->-r requirements.txt (line 3)) (1.16.0)\n",
      "Requirement already satisfied: pyrsistent>=0.14.0 in /Users/ionasantana/opt/anaconda3/lib/python3.9/site-packages (from jsonschema!=2.5.0,>=2.4->nbformat->-r requirements.txt (line 1)) (0.18.0)\n",
      "Requirement already satisfied: attrs>=17.4.0 in /Users/ionasantana/opt/anaconda3/lib/python3.9/site-packages (from jsonschema!=2.5.0,>=2.4->nbformat->-r requirements.txt (line 1)) (21.2.0)\n",
      "Requirement already satisfied: setuptools in /Users/ionasantana/opt/anaconda3/lib/python3.9/site-packages (from jsonschema!=2.5.0,>=2.4->nbformat->-r requirements.txt (line 1)) (58.0.4)\n",
      "Requirement already satisfied: pytz>=2017.3 in /Users/ionasantana/opt/anaconda3/lib/python3.9/site-packages (from pandas>=0.23->seaborn->-r requirements.txt (line 4)) (2021.3)\n"
     ]
    }
   ],
   "source": [
    "!pip3 install -r requirements.txt"
   ]
  },
  {
   "cell_type": "markdown",
   "metadata": {},
   "source": [
    "### DATASET - Conjunto de Dados"
   ]
  },
  {
   "cell_type": "markdown",
   "metadata": {},
   "source": [
    "Algumas vezes os conjuntos de dados vêm com o nome da coluna descritiva de modo a sugerir o conteúdo, como: \n",
    "\n",
    "'É profissional de saúde ?', que tem como conteúdo 'Sim' e 'Não'.\n",
    "\n",
    "Mas outras vezes não, como, '2021-02-19 00:00:00', que ao mostrarmos o conteúdo constatamos se tratar de nomes de hospitais.\n",
    "\n",
    "Essa informação é mostrada no arquivo 3_pre_processamento.ipynb"
   ]
  },
  {
   "cell_type": "markdown",
   "metadata": {},
   "source": [
    "### Organização das análises"
   ]
  },
  {
   "cell_type": "markdown",
   "metadata": {},
   "source": [
    "Executar o arquivo 2_funcoes.ipynb, depois o 3_pre_processamento.ipynb encontrados na pasta documentacao.\n",
    "\n",
    "Após, pode-se executar qualquer um dos arquivos: comorbidades.ipynb, diaria.ipynb, profissional_saude.ipynb, sexo.ipynb, sintomas.ipynb, vacina.ipynb."
   ]
  }
 ],
 "metadata": {
  "interpreter": {
   "hash": "aee8b7b246df8f9039afb4144a1f6fd8d2ca17a180786b69acc140d282b71a49"
  },
  "kernelspec": {
   "display_name": "Python 3 (ipykernel)",
   "language": "python",
   "name": "python3"
  },
  "language_info": {
   "codemirror_mode": {
    "name": "ipython",
    "version": 3
   },
   "file_extension": ".py",
   "mimetype": "text/x-python",
   "name": "python",
   "nbconvert_exporter": "python",
   "pygments_lexer": "ipython3",
   "version": "3.9.10"
  }
 },
 "nbformat": 4,
 "nbformat_minor": 2
}
