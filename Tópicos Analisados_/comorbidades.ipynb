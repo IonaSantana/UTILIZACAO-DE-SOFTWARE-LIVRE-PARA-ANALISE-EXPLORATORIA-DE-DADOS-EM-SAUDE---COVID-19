{
 "cells": [
  {
   "cell_type": "code",
   "execution_count": 395,
   "metadata": {},
   "outputs": [],
   "source": [
    "%run documentacao/2_funcoes.ipynb"
   ]
  },
  {
   "cell_type": "code",
   "execution_count": 396,
   "metadata": {},
   "outputs": [
    {
     "name": "stderr",
     "output_type": "stream",
     "text": [
      "/usr/local/lib/python3.9/site-packages/IPython/core/interactiveshell.py:3369: DtypeWarning: Columns (2,10,15,48,49,64,65,66,67) have mixed types.Specify dtype option on import or set low_memory=False.\n",
      "  exec(code_obj, self.user_global_ns, self.user_ns)\n"
     ]
    }
   ],
   "source": [
    "df_covid = pd.read_csv('documentacao/dataset/Planilha COVID19 - Aparecida 2021_02112021.csv')"
   ]
  },
  {
   "cell_type": "markdown",
   "metadata": {},
   "source": [
    "Colunas comorbidade e risco: \n",
    "\n",
    "'Tem comorbidades?', 'Doença Resp. Crônica ', 'Doenças Renais Crônica em estágio Avançado ', 'Gestante', 'Portador de doenças cromossômaticas', 'Doenças Cardíacas Crônicas', 'Imunossupressão', 'Diabetes', 'Outros?'"
   ]
  },
  {
   "cell_type": "markdown",
   "metadata": {},
   "source": [
    "Exceto a colunas 'Outros?', não há valores nulos!\n"
   ]
  },
  {
   "cell_type": "code",
   "execution_count": 397,
   "metadata": {},
   "outputs": [
    {
     "data": {
      "text/html": [
       "<div>\n",
       "<style scoped>\n",
       "    .dataframe tbody tr th:only-of-type {\n",
       "        vertical-align: middle;\n",
       "    }\n",
       "\n",
       "    .dataframe tbody tr th {\n",
       "        vertical-align: top;\n",
       "    }\n",
       "\n",
       "    .dataframe thead th {\n",
       "        text-align: right;\n",
       "    }\n",
       "</style>\n",
       "<table border=\"1\" class=\"dataframe\">\n",
       "  <thead>\n",
       "    <tr style=\"text-align: right;\">\n",
       "      <th></th>\n",
       "      <th>Tem comorbidades?</th>\n",
       "      <th>Doença Resp. Crônica</th>\n",
       "      <th>Doenças Renais Crônica em estágio Avançado</th>\n",
       "      <th>Gestante</th>\n",
       "      <th>Portador de doenças cromossômaticas</th>\n",
       "      <th>Doenças Cardíacas Crônicas</th>\n",
       "      <th>Imunossupressão</th>\n",
       "      <th>Diabetes</th>\n",
       "      <th>Outros?</th>\n",
       "    </tr>\n",
       "  </thead>\n",
       "  <tbody>\n",
       "    <tr>\n",
       "      <th>0</th>\n",
       "      <td>Sim</td>\n",
       "      <td>Não</td>\n",
       "      <td>Não</td>\n",
       "      <td>Não</td>\n",
       "      <td>Não</td>\n",
       "      <td>Sim</td>\n",
       "      <td>Não</td>\n",
       "      <td>Não</td>\n",
       "      <td>NaN</td>\n",
       "    </tr>\n",
       "    <tr>\n",
       "      <th>1</th>\n",
       "      <td>Não</td>\n",
       "      <td>Não</td>\n",
       "      <td>Não</td>\n",
       "      <td>Não</td>\n",
       "      <td>Não</td>\n",
       "      <td>Não</td>\n",
       "      <td>Não</td>\n",
       "      <td>Não</td>\n",
       "      <td>NaN</td>\n",
       "    </tr>\n",
       "    <tr>\n",
       "      <th>2</th>\n",
       "      <td>Não</td>\n",
       "      <td>Não</td>\n",
       "      <td>Não</td>\n",
       "      <td>Não</td>\n",
       "      <td>Não</td>\n",
       "      <td>Não</td>\n",
       "      <td>Não</td>\n",
       "      <td>Não</td>\n",
       "      <td>NaN</td>\n",
       "    </tr>\n",
       "    <tr>\n",
       "      <th>3</th>\n",
       "      <td>Não</td>\n",
       "      <td>Não</td>\n",
       "      <td>Não</td>\n",
       "      <td>Não</td>\n",
       "      <td>Não</td>\n",
       "      <td>Não</td>\n",
       "      <td>Não</td>\n",
       "      <td>Não</td>\n",
       "      <td>NaN</td>\n",
       "    </tr>\n",
       "    <tr>\n",
       "      <th>4</th>\n",
       "      <td>Não</td>\n",
       "      <td>Não</td>\n",
       "      <td>Não</td>\n",
       "      <td>Não</td>\n",
       "      <td>Não</td>\n",
       "      <td>Não</td>\n",
       "      <td>Não</td>\n",
       "      <td>Não</td>\n",
       "      <td>NaN</td>\n",
       "    </tr>\n",
       "  </tbody>\n",
       "</table>\n",
       "</div>"
      ],
      "text/plain": [
       "  Tem comorbidades? Doença Resp. Crônica   \\\n",
       "0               Sim                   Não   \n",
       "1               Não                   Não   \n",
       "2               Não                   Não   \n",
       "3               Não                   Não   \n",
       "4               Não                   Não   \n",
       "\n",
       "  Doenças Renais Crônica em estágio Avançado  Gestante  \\\n",
       "0                                         Não      Não   \n",
       "1                                         Não      Não   \n",
       "2                                         Não      Não   \n",
       "3                                         Não      Não   \n",
       "4                                         Não      Não   \n",
       "\n",
       "  Portador de doenças cromossômaticas Doenças Cardíacas Crônicas  \\\n",
       "0                                 Não                        Sim   \n",
       "1                                 Não                        Não   \n",
       "2                                 Não                        Não   \n",
       "3                                 Não                        Não   \n",
       "4                                 Não                        Não   \n",
       "\n",
       "  Imunossupressão Diabetes Outros?  \n",
       "0             Não      Não     NaN  \n",
       "1             Não      Não     NaN  \n",
       "2             Não      Não     NaN  \n",
       "3             Não      Não     NaN  \n",
       "4             Não      Não     NaN  "
      ]
     },
     "execution_count": 397,
     "metadata": {},
     "output_type": "execute_result"
    }
   ],
   "source": [
    "comorbidade = ['Tem comorbidades?', 'Doença Resp. Crônica ', 'Doenças Renais Crônica em estágio Avançado ', 'Gestante', 'Portador de doenças cromossômaticas', 'Doenças Cardíacas Crônicas', 'Imunossupressão', 'Diabetes', 'Outros?']\n",
    "df_covid[comorbidade].head()"
   ]
  },
  {
   "cell_type": "code",
   "execution_count": 421,
   "metadata": {},
   "outputs": [
    {
     "data": {
      "text/plain": [
       "Cura/Recuperado           89747\n",
       "Óbito por COVID-19         1715\n",
       "Internado - Enfermaria      170\n",
       "Isolamento Domiciliar       120\n",
       "Internado - UTI              82\n",
       "Name: Evolução, dtype: int64"
      ]
     },
     "execution_count": 421,
     "metadata": {},
     "output_type": "execute_result"
    }
   ],
   "source": [
    "df_covid['Evolução'].value_counts()"
   ]
  },
  {
   "cell_type": "code",
   "execution_count": 398,
   "metadata": {},
   "outputs": [
    {
     "data": {
      "text/plain": [
       "array(['Sim', 'Não'], dtype=object)"
      ]
     },
     "execution_count": 398,
     "metadata": {},
     "output_type": "execute_result"
    }
   ],
   "source": [
    "df_covid['Tem comorbidades?'].unique()"
   ]
  },
  {
   "cell_type": "markdown",
   "metadata": {},
   "source": [
    "Separar entre quem tem comorbidades e quem não tem"
   ]
  },
  {
   "cell_type": "code",
   "execution_count": 399,
   "metadata": {},
   "outputs": [
    {
     "name": "stdout",
     "output_type": "stream",
     "text": [
      "Quantidade de pessoas com comorbidades:  11449\n"
     ]
    }
   ],
   "source": [
    "condicao = df_covid['Tem comorbidades?'] == 'Sim' \n",
    "df_comorbidade = df_covid[condicao]\n",
    "print(\"Quantidade de pessoas com comorbidades: \", df_comorbidade.shape[0])"
   ]
  },
  {
   "cell_type": "code",
   "execution_count": 400,
   "metadata": {},
   "outputs": [
    {
     "data": {
      "image/png": "[encoded data removed]",
      "text/plain": [
       "<Figure size 432x288 with 1 Axes>"
      ]
     },
     "metadata": {},
     "output_type": "display_data"
    }
   ],
   "source": [
    "grafico_pizza(df_covid, 'Tem comorbidades?')"
   ]
  },
  {
   "cell_type": "code",
   "execution_count": 401,
   "metadata": {},
   "outputs": [],
   "source": [
    "# ~ para negar a condição, que é sobre ter comorbidade, o contrário é não ter\n",
    "df_saudavel = df_covid[~condicao]"
   ]
  },
  {
   "cell_type": "code",
   "execution_count": 402,
   "metadata": {},
   "outputs": [
    {
     "data": {
      "text/html": [
       "<div>\n",
       "<style scoped>\n",
       "    .dataframe tbody tr th:only-of-type {\n",
       "        vertical-align: middle;\n",
       "    }\n",
       "\n",
       "    .dataframe tbody tr th {\n",
       "        vertical-align: top;\n",
       "    }\n",
       "\n",
       "    .dataframe thead th {\n",
       "        text-align: right;\n",
       "    }\n",
       "</style>\n",
       "<table border=\"1\" class=\"dataframe\">\n",
       "  <thead>\n",
       "    <tr style=\"text-align: right;\">\n",
       "      <th></th>\n",
       "      <th>Unnamed: 0</th>\n",
       "      <th>Número do Registro</th>\n",
       "      <th>Notificações ESUS - SIVEP</th>\n",
       "      <th>Sexo</th>\n",
       "      <th>Unidade Notificadora</th>\n",
       "      <th>Data de Nascimento</th>\n",
       "      <th>IdadeM</th>\n",
       "      <th>Outra Faixa etária</th>\n",
       "      <th>Raça/Cor</th>\n",
       "      <th>Bairro</th>\n",
       "      <th>...</th>\n",
       "      <th>Data do Diagnóstico</th>\n",
       "      <th>Data de Lançamento</th>\n",
       "      <th>Data da cura ou óbito</th>\n",
       "      <th>Ja vacinou? Se sim, Qual Vacina?</th>\n",
       "      <th>Data 1° Dose</th>\n",
       "      <th>Data 2° Dose</th>\n",
       "      <th>Fez sequenciamento? Se Sim, qual variante?</th>\n",
       "      <th>Tipo de Teste / Método</th>\n",
       "      <th>Laboratório</th>\n",
       "      <th>Observação</th>\n",
       "    </tr>\n",
       "  </thead>\n",
       "  <tbody>\n",
       "    <tr>\n",
       "      <th>0</th>\n",
       "      <td>0</td>\n",
       "      <td>0</td>\n",
       "      <td>522001355107.0</td>\n",
       "      <td>Masculino</td>\n",
       "      <td>Hosp. Anis Rassi</td>\n",
       "      <td>1951-03-06</td>\n",
       "      <td>70</td>\n",
       "      <td>70 a 79 anos</td>\n",
       "      <td>Branca</td>\n",
       "      <td>Cidade Vera Cruz - Jardins Mônaco</td>\n",
       "      <td>...</td>\n",
       "      <td>2020-03-18</td>\n",
       "      <td>2020-03-18</td>\n",
       "      <td>2020-03-29 00:00:00</td>\n",
       "      <td>NaN</td>\n",
       "      <td>NaN</td>\n",
       "      <td>NaN</td>\n",
       "      <td>NaN</td>\n",
       "      <td>RT-PCR</td>\n",
       "      <td>Anis Rassi</td>\n",
       "      <td>Empresário. Relata viagem para Itália.</td>\n",
       "    </tr>\n",
       "    <tr>\n",
       "      <th>5</th>\n",
       "      <td>5</td>\n",
       "      <td>5</td>\n",
       "      <td>315934399039.0</td>\n",
       "      <td>Masculino</td>\n",
       "      <td>Cais Nova Era</td>\n",
       "      <td>1998-03-10</td>\n",
       "      <td>23</td>\n",
       "      <td>20 a 29 anos</td>\n",
       "      <td>Parda</td>\n",
       "      <td>Jardim Luz</td>\n",
       "      <td>...</td>\n",
       "      <td>2020-04-11</td>\n",
       "      <td>2020-04-11</td>\n",
       "      <td>2020-04-23 00:00:00</td>\n",
       "      <td>NaN</td>\n",
       "      <td>NaN</td>\n",
       "      <td>NaN</td>\n",
       "      <td>NaN</td>\n",
       "      <td>RT-PCR</td>\n",
       "      <td>LACEN GO</td>\n",
       "      <td>Hosp.IRG, e Hosp. Goiânia Leste</td>\n",
       "    </tr>\n",
       "    <tr>\n",
       "      <th>6</th>\n",
       "      <td>6</td>\n",
       "      <td>6</td>\n",
       "      <td>522000263368.0</td>\n",
       "      <td>Masculino</td>\n",
       "      <td>Unimed GO</td>\n",
       "      <td>1978-06-07</td>\n",
       "      <td>43</td>\n",
       "      <td>40 a 49 anos</td>\n",
       "      <td>Ignorado</td>\n",
       "      <td>Cidade Vera Cruz</td>\n",
       "      <td>...</td>\n",
       "      <td>2020-04-13</td>\n",
       "      <td>2020-04-13</td>\n",
       "      <td>2020-04-20 00:00:00</td>\n",
       "      <td>NaN</td>\n",
       "      <td>NaN</td>\n",
       "      <td>NaN</td>\n",
       "      <td>NaN</td>\n",
       "      <td>RT-PCR</td>\n",
       "      <td>Unimed GO</td>\n",
       "      <td>Analista de Sistema</td>\n",
       "    </tr>\n",
       "    <tr>\n",
       "      <th>7</th>\n",
       "      <td>7</td>\n",
       "      <td>7</td>\n",
       "      <td>315871545593.0</td>\n",
       "      <td>Feminino</td>\n",
       "      <td>Hosp. Anis Rassi</td>\n",
       "      <td>1963-07-16</td>\n",
       "      <td>58</td>\n",
       "      <td>50 a 59 anos</td>\n",
       "      <td>Branca</td>\n",
       "      <td>Vila Cruzeiro Do Sul</td>\n",
       "      <td>...</td>\n",
       "      <td>2020-04-13</td>\n",
       "      <td>2020-04-13</td>\n",
       "      <td>2020-04-19 00:00:00</td>\n",
       "      <td>NaN</td>\n",
       "      <td>NaN</td>\n",
       "      <td>NaN</td>\n",
       "      <td>NaN</td>\n",
       "      <td>RT-PCR</td>\n",
       "      <td>Anis Rassi</td>\n",
       "      <td>Empresária</td>\n",
       "    </tr>\n",
       "    <tr>\n",
       "      <th>8</th>\n",
       "      <td>8</td>\n",
       "      <td>8</td>\n",
       "      <td>522000272695.0</td>\n",
       "      <td>Feminino</td>\n",
       "      <td>Unimed GO</td>\n",
       "      <td>1978-08-22</td>\n",
       "      <td>43</td>\n",
       "      <td>40 a 49 anos</td>\n",
       "      <td>Branca</td>\n",
       "      <td>Jardim Luz</td>\n",
       "      <td>...</td>\n",
       "      <td>2020-04-14</td>\n",
       "      <td>2020-04-14</td>\n",
       "      <td>2020-04-27 00:00:00</td>\n",
       "      <td>NaN</td>\n",
       "      <td>NaN</td>\n",
       "      <td>NaN</td>\n",
       "      <td>NaN</td>\n",
       "      <td>RT-PCR</td>\n",
       "      <td>Unimed GO</td>\n",
       "      <td>Trabalha na Unimed</td>\n",
       "    </tr>\n",
       "  </tbody>\n",
       "</table>\n",
       "<p>5 rows × 71 columns</p>\n",
       "</div>"
      ],
      "text/plain": [
       "   Unnamed: 0  Número do Registro Notificações ESUS - SIVEP         Sexo  \\\n",
       "0           0                   0              522001355107.0  Masculino   \n",
       "5           5                   5              315934399039.0  Masculino   \n",
       "6           6                   6              522000263368.0  Masculino   \n",
       "7           7                   7              315871545593.0   Feminino   \n",
       "8           8                   8              522000272695.0   Feminino   \n",
       "\n",
       "  Unidade Notificadora Data de Nascimento  IdadeM Outra Faixa etária  \\\n",
       "0     Hosp. Anis Rassi         1951-03-06      70       70 a 79 anos   \n",
       "5        Cais Nova Era         1998-03-10      23       20 a 29 anos   \n",
       "6            Unimed GO         1978-06-07      43       40 a 49 anos   \n",
       "7     Hosp. Anis Rassi         1963-07-16      58       50 a 59 anos   \n",
       "8            Unimed GO         1978-08-22      43       40 a 49 anos   \n",
       "\n",
       "   Raça/Cor                             Bairro  ... Data do Diagnóstico  \\\n",
       "0    Branca  Cidade Vera Cruz - Jardins Mônaco  ...          2020-03-18   \n",
       "5     Parda                         Jardim Luz  ...          2020-04-11   \n",
       "6  Ignorado                   Cidade Vera Cruz  ...          2020-04-13   \n",
       "7    Branca               Vila Cruzeiro Do Sul  ...          2020-04-13   \n",
       "8    Branca                         Jardim Luz  ...          2020-04-14   \n",
       "\n",
       "  Data de Lançamento Data da cura ou óbito Ja vacinou? Se sim, Qual Vacina?  \\\n",
       "0         2020-03-18   2020-03-29 00:00:00                              NaN   \n",
       "5         2020-04-11   2020-04-23 00:00:00                              NaN   \n",
       "6         2020-04-13   2020-04-20 00:00:00                              NaN   \n",
       "7         2020-04-13   2020-04-19 00:00:00                              NaN   \n",
       "8         2020-04-14   2020-04-27 00:00:00                              NaN   \n",
       "\n",
       "  Data 1° Dose Data 2° Dose Fez sequenciamento? Se Sim, qual variante?  \\\n",
       "0          NaN          NaN                                        NaN   \n",
       "5          NaN          NaN                                        NaN   \n",
       "6          NaN          NaN                                        NaN   \n",
       "7          NaN          NaN                                        NaN   \n",
       "8          NaN          NaN                                        NaN   \n",
       "\n",
       "  Tipo de Teste / Método Laboratório                              Observação  \n",
       "0                 RT-PCR  Anis Rassi  Empresário. Relata viagem para Itália.  \n",
       "5                 RT-PCR    LACEN GO         Hosp.IRG, e Hosp. Goiânia Leste  \n",
       "6                 RT-PCR   Unimed GO                     Analista de Sistema  \n",
       "7                 RT-PCR  Anis Rassi                              Empresária  \n",
       "8                 RT-PCR   Unimed GO                      Trabalha na Unimed  \n",
       "\n",
       "[5 rows x 71 columns]"
      ]
     },
     "execution_count": 402,
     "metadata": {},
     "output_type": "execute_result"
    }
   ],
   "source": [
    "df_comorbidade.head()"
   ]
  },
  {
   "cell_type": "code",
   "execution_count": 403,
   "metadata": {},
   "outputs": [],
   "source": [
    "colunas = comorbidade\n",
    "colunas.remove('Tem comorbidades?')\n",
    "colunas.remove('Outros?')"
   ]
  },
  {
   "cell_type": "code",
   "execution_count": 404,
   "metadata": {},
   "outputs": [
    {
     "data": {
      "text/plain": [
       "0.03519958074941043"
      ]
     },
     "execution_count": 404,
     "metadata": {},
     "output_type": "execute_result"
    }
   ],
   "source": [
    "df_comorbidade[df_comorbidade['Gestante'] == 'Sim'].shape[0]/df_comorbidade.shape[0] "
   ]
  },
  {
   "cell_type": "code",
   "execution_count": 405,
   "metadata": {},
   "outputs": [
    {
     "data": {
      "text/plain": [
       "403"
      ]
     },
     "execution_count": 405,
     "metadata": {},
     "output_type": "execute_result"
    }
   ],
   "source": [
    "df_comorbidade[df_comorbidade['Gestante'] == 'Sim'].shape[0]"
   ]
  },
  {
   "cell_type": "markdown",
   "metadata": {},
   "source": [
    "Muita quantidade de zero, então podemos contar os zeros e retirá-los"
   ]
  },
  {
   "cell_type": "code",
   "execution_count": 406,
   "metadata": {},
   "outputs": [
    {
     "data": {
      "text/plain": [
       "<AxesSubplot:>"
      ]
     },
     "execution_count": 406,
     "metadata": {},
     "output_type": "execute_result"
    },
    {
     "data": {
      "image/png": "[encoded data removed]",
      "text/plain": [
       "<Figure size 432x288 with 1 Axes>"
      ]
     },
     "metadata": {
      "needs_background": "light"
     },
     "output_type": "display_data"
    }
   ],
   "source": [
    "df_comorbidade['Qtd dias UTI'].hist()"
   ]
  },
  {
   "cell_type": "code",
   "execution_count": 407,
   "metadata": {},
   "outputs": [
    {
     "data": {
      "text/plain": [
       "<AxesSubplot:>"
      ]
     },
     "execution_count": 407,
     "metadata": {},
     "output_type": "execute_result"
    },
    {
     "data": {
      "image/png": "[encoded data removed]",
      "text/plain": [
       "<Figure size 432x288 with 1 Axes>"
      ]
     },
     "metadata": {
      "needs_background": "light"
     },
     "output_type": "display_data"
    }
   ],
   "source": [
    "df_saudavel['Qtd dias UTI'].hist()"
   ]
  },
  {
   "cell_type": "code",
   "execution_count": 408,
   "metadata": {},
   "outputs": [
    {
     "data": {
      "text/plain": [
       "0         True\n",
       "5         True\n",
       "6        False\n",
       "7         True\n",
       "8        False\n",
       "         ...  \n",
       "91739    False\n",
       "91750    False\n",
       "91770    False\n",
       "91801    False\n",
       "91830    False\n",
       "Name: Qtd dias UTI, Length: 11449, dtype: bool"
      ]
     },
     "execution_count": 408,
     "metadata": {},
     "output_type": "execute_result"
    }
   ],
   "source": [
    "df_comorbidade['Qtd dias UTI'] > 0"
   ]
  },
  {
   "cell_type": "code",
   "execution_count": 409,
   "metadata": {},
   "outputs": [
    {
     "name": "stdout",
     "output_type": "stream",
     "text": [
      "Dias na UTI maior que zero: 1445\n"
     ]
    },
    {
     "data": {
      "text/plain": [
       "<AxesSubplot:>"
      ]
     },
     "execution_count": 409,
     "metadata": {},
     "output_type": "execute_result"
    },
    {
     "data": {
      "image/png": "[encoded data removed]",
      "text/plain": [
       "<Figure size 432x288 with 1 Axes>"
      ]
     },
     "metadata": {
      "needs_background": "light"
     },
     "output_type": "display_data"
    }
   ],
   "source": [
    "aux = df_comorbidade[df_comorbidade['Qtd dias UTI'] > 0]\n",
    "print('Dias na UTI maior que zero:', aux.shape[0])\n",
    "aux['Qtd dias UTI'].hist()"
   ]
  },
  {
   "cell_type": "code",
   "execution_count": 410,
   "metadata": {},
   "outputs": [
    {
     "data": {
      "text/plain": [
       "count    1445.000000\n",
       "mean        9.963322\n",
       "std         9.331649\n",
       "min         1.000000\n",
       "25%         4.000000\n",
       "50%         7.000000\n",
       "75%        13.000000\n",
       "max        88.000000\n",
       "Name: Qtd dias UTI, dtype: float64"
      ]
     },
     "execution_count": 410,
     "metadata": {},
     "output_type": "execute_result"
    }
   ],
   "source": [
    "aux['Qtd dias UTI'].describe()"
   ]
  },
  {
   "cell_type": "code",
   "execution_count": 411,
   "metadata": {},
   "outputs": [
    {
     "name": "stdout",
     "output_type": "stream",
     "text": [
      "Dias na UTI maior que zero: 864\n"
     ]
    },
    {
     "data": {
      "text/plain": [
       "<AxesSubplot:>"
      ]
     },
     "execution_count": 411,
     "metadata": {},
     "output_type": "execute_result"
    },
    {
     "data": {
      "image/png": "[encoded data removed]",
      "text/plain": [
       "<Figure size 432x288 with 1 Axes>"
      ]
     },
     "metadata": {
      "needs_background": "light"
     },
     "output_type": "display_data"
    }
   ],
   "source": [
    "aux = df_saudavel[df_saudavel['Qtd dias UTI'] > 0]\n",
    "print('Dias na UTI maior que zero:', aux.shape[0])\n",
    "aux['Qtd dias UTI'].hist()"
   ]
  },
  {
   "cell_type": "code",
   "execution_count": 412,
   "metadata": {},
   "outputs": [
    {
     "data": {
      "text/plain": [
       "count    864.000000\n",
       "mean      10.449074\n",
       "std        9.898193\n",
       "min        1.000000\n",
       "25%        4.000000\n",
       "50%        7.000000\n",
       "75%       13.000000\n",
       "max       65.000000\n",
       "Name: Qtd dias UTI, dtype: float64"
      ]
     },
     "execution_count": 412,
     "metadata": {},
     "output_type": "execute_result"
    }
   ],
   "source": [
    "aux['Qtd dias UTI'].describe()"
   ]
  },
  {
   "cell_type": "markdown",
   "metadata": {},
   "source": [
    "Análise sobre os pacientes de risco, 12,5% das pessoas"
   ]
  },
  {
   "cell_type": "code",
   "execution_count": 413,
   "metadata": {},
   "outputs": [],
   "source": [
    "lista = []\n",
    "for col in comorbidade:\n",
    "    aux = df_comorbidade[df_comorbidade[col] == 'Sim']\n",
    "    lista.append([col, len(aux)])\n",
    "\n",
    "df = pd.DataFrame(lista, columns=['Coluna', 'Quantidade'])"
   ]
  },
  {
   "cell_type": "code",
   "execution_count": 414,
   "metadata": {},
   "outputs": [
    {
     "data": {
      "image/png": "[encoded data removed]",
      "text/plain": [
       "<Figure size 1800x720 with 1 Axes>"
      ]
     },
     "metadata": {
      "needs_background": "light"
     },
     "output_type": "display_data"
    }
   ],
   "source": [
    "tamanho_do_dataframe = df_comorbidade.shape[0]\n",
    "grafico_barra_com_porcentagem_2(df['Coluna'], df['Quantidade'],'Comorbidade/Risco',tamanho_do_dataframe ,figsize = (25,10))"
   ]
  },
  {
   "cell_type": "markdown",
   "metadata": {},
   "source": [
    "#### Análise na evolução sobre as 3 comorbidades com maiores porcentagem: doenças cardíacas crônicas - 48,6%, diabetes - 26,9% e doenças respiratórias crônicas - 21,7%. "
   ]
  },
  {
   "cell_type": "code",
   "execution_count": 415,
   "metadata": {},
   "outputs": [
    {
     "data": {
      "text/plain": [
       "array(['Cura/Recuperado', 'Óbito por COVID-19', 'Internado - Enfermaria',\n",
       "       'Internado - UTI ', 'Isolamento Domiciliar'], dtype=object)"
      ]
     },
     "execution_count": 415,
     "metadata": {},
     "output_type": "execute_result"
    }
   ],
   "source": [
    "evolucao = df_covid['Evolução'].unique()\n",
    "evolucao"
   ]
  },
  {
   "cell_type": "code",
   "execution_count": 416,
   "metadata": {},
   "outputs": [
    {
     "data": {
      "text/plain": [
       "array(['Doença Resp. Crônica ',\n",
       "       'Doenças Renais Crônica em estágio Avançado ', 'Gestante',\n",
       "       'Portador de doenças cromossômaticas',\n",
       "       'Doenças Cardíacas Crônicas', 'Imunossupressão', 'Diabetes'],\n",
       "      dtype=object)"
      ]
     },
     "execution_count": 416,
     "metadata": {},
     "output_type": "execute_result"
    }
   ],
   "source": [
    "df['Coluna'].unique()\n"
   ]
  },
  {
   "cell_type": "code",
   "execution_count": 417,
   "metadata": {},
   "outputs": [],
   "source": [
    "lista = ['Doenças Cardíacas Crônicas', 'Diabetes', 'Doença Resp. Crônica ']"
   ]
  },
  {
   "cell_type": "code",
   "execution_count": 420,
   "metadata": {},
   "outputs": [
    {
     "data": {
      "image/png": "[encoded data removed]",
      "text/plain": [
       "<Figure size 1080x720 with 1 Axes>"
      ]
     },
     "metadata": {
      "needs_background": "light"
     },
     "output_type": "display_data"
    },
    {
     "data": {
      "image/png": "[encoded data removed]",
      "text/plain": [
       "<Figure size 1080x720 with 1 Axes>"
      ]
     },
     "metadata": {
      "needs_background": "light"
     },
     "output_type": "display_data"
    },
    {
     "data": {
      "image/png": "[encoded data removed]",
      "text/plain": [
       "<Figure size 1080x720 with 1 Axes>"
      ]
     },
     "metadata": {
      "needs_background": "light"
     },
     "output_type": "display_data"
    }
   ],
   "source": [
    "for j in lista:\n",
    "    grafico_barra_com_porcentagem(df_comorbidade[df_comorbidade[j] == 'Sim'],'Evolução', f'Evolução - {j}', figsize = (15,10))\n",
    "       "
   ]
  },
  {
   "cell_type": "code",
   "execution_count": null,
   "metadata": {},
   "outputs": [],
   "source": []
  }
 ],
 "metadata": {
  "interpreter": {
   "hash": "aee8b7b246df8f9039afb4144a1f6fd8d2ca17a180786b69acc140d282b71a49"
  },
  "kernelspec": {
   "display_name": "Python 3.9.10 64-bit",
   "language": "python",
   "name": "python3"
  },
  "language_info": {
   "codemirror_mode": {
    "name": "ipython",
    "version": 3
   },
   "file_extension": ".py",
   "mimetype": "text/x-python",
   "name": "python",
   "nbconvert_exporter": "python",
   "pygments_lexer": "ipython3",
   "version": "3.9.10"
  },
  "orig_nbformat": 4
 },
 "nbformat": 4,
 "nbformat_minor": 2
}
