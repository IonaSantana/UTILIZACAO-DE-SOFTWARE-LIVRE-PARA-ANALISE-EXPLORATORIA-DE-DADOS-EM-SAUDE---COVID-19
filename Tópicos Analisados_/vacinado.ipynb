{
 "cells": [
  {
   "cell_type": "markdown",
   "metadata": {},
   "source": [
    "Perguntas\n",
    "\n",
    "-Vacinou?\n",
    "\n",
    "-Quantas doses?\n",
    "\n",
    "- chegou a internar, foi para UTI?\n",
    "\n",
    "- Quantidade de vacinados por sexo\n",
    "\n",
    "- Em relação ao sexo quem vacinou mais\n",
    "\n",
    "- Qual a idade das pessoas vacinadas\n",
    "\n",
    "Conclusão: como, a pouca representidade de dados para vacinados, ocorreu o descarte das perguntas.\n"
   ]
  },
  {
   "cell_type": "code",
   "execution_count": 146,
   "metadata": {},
   "outputs": [],
   "source": [
    "%run documentacao/2_funcoes.ipynb"
   ]
  },
  {
   "cell_type": "code",
   "execution_count": 147,
   "metadata": {},
   "outputs": [
    {
     "name": "stderr",
     "output_type": "stream",
     "text": [
      "/usr/local/lib/python3.9/site-packages/IPython/core/interactiveshell.py:3369: DtypeWarning: Columns (2,10,15,48,49,64,65,66,67) have mixed types.Specify dtype option on import or set low_memory=False.\n",
      "  exec(code_obj, self.user_global_ns, self.user_ns)\n"
     ]
    }
   ],
   "source": [
    "df_covid = pd.read_csv('documentacao/dataset/Planilha COVID19 - Aparecida 2021_02112021.csv')"
   ]
  },
  {
   "cell_type": "code",
   "execution_count": 148,
   "metadata": {},
   "outputs": [
    {
     "data": {
      "text/plain": [
       "90746"
      ]
     },
     "execution_count": 148,
     "metadata": {},
     "output_type": "execute_result"
    }
   ],
   "source": [
    "#'Ja vacinou? Se sim, Qual Vacina?', 'Data 1° Dose', 'Data 2° Dose',\n",
    "df_covid['Ja vacinou? Se sim, Qual Vacina?'].isna().sum()"
   ]
  },
  {
   "cell_type": "markdown",
   "metadata": {},
   "source": [
    "Valores diferente de Nulo (NaN), resulta em muito poucos valores, apenas 1,18% da base de dados. \n",
    "\n",
    "Não sendo continua a análise sobre a vacinação."
   ]
  },
  {
   "cell_type": "code",
   "execution_count": 149,
   "metadata": {},
   "outputs": [
    {
     "data": {
      "text/plain": [
       "1088"
      ]
     },
     "execution_count": 149,
     "metadata": {},
     "output_type": "execute_result"
    }
   ],
   "source": [
    "df_covid[df_covid['Ja vacinou? Se sim, Qual Vacina?'].isna() == False].shape[0]"
   ]
  },
  {
   "cell_type": "markdown",
   "metadata": {},
   "source": [
    "Round -> função para arrendondar casa decimais após a vírgula. \n",
    "\n",
    "No exemplo, foi usado 2."
   ]
  },
  {
   "cell_type": "code",
   "execution_count": 150,
   "metadata": {},
   "outputs": [
    {
     "name": "stdout",
     "output_type": "stream",
     "text": [
      "1.18 %\n"
     ]
    }
   ],
   "source": [
    "print(round(df_covid[df_covid['Ja vacinou? Se sim, Qual Vacina?'].isna() == False].shape[0] / df_covid.shape[0] * 100 ,2), '%')"
   ]
  },
  {
   "cell_type": "code",
   "execution_count": 151,
   "metadata": {},
   "outputs": [
    {
     "data": {
      "text/plain": [
       "array(['CORONAVAC', 'ASTRAZENECA', 'PFIZER', 'JANSSEN'], dtype=object)"
      ]
     },
     "execution_count": 151,
     "metadata": {},
     "output_type": "execute_result"
    }
   ],
   "source": [
    "aux = pd.DataFrame()\n",
    "aux = df_covid[df_covid['Ja vacinou? Se sim, Qual Vacina?'].isna() == False]\n",
    "aux['Ja vacinou? Se sim, Qual Vacina?'].unique()"
   ]
  },
  {
   "cell_type": "code",
   "execution_count": 152,
   "metadata": {},
   "outputs": [
    {
     "data": {
      "text/plain": [
       "ASTRAZENECA    437\n",
       "CORONAVAC      319\n",
       "PFIZER         282\n",
       "JANSSEN         50\n",
       "Name: Ja vacinou? Se sim, Qual Vacina?, dtype: int64"
      ]
     },
     "execution_count": 152,
     "metadata": {},
     "output_type": "execute_result"
    }
   ],
   "source": [
    "aux['Ja vacinou? Se sim, Qual Vacina?'].value_counts()"
   ]
  },
  {
   "cell_type": "code",
   "execution_count": 153,
   "metadata": {},
   "outputs": [
    {
     "data": {
      "text/plain": [
       "array([nan, 'CORONAVAC', 'ASTRAZENECA', 'PFIZER', 'JANSSEN'], dtype=object)"
      ]
     },
     "execution_count": 153,
     "metadata": {},
     "output_type": "execute_result"
    }
   ],
   "source": [
    "df_covid['Ja vacinou? Se sim, Qual Vacina?'].unique()"
   ]
  },
  {
   "cell_type": "markdown",
   "metadata": {},
   "source": [
    "Gráfico de barra, será usado, pois como a mais de 3  tipos de valores, o gráfico de pizza\n",
    "fica confuso"
   ]
  },
  {
   "cell_type": "code",
   "execution_count": 158,
   "metadata": {},
   "outputs": [
    {
     "data": {
      "image/png": "[encoded data removed]",
      "text/plain": [
       "<Figure size 432x288 with 1 Axes>"
      ]
     },
     "metadata": {
      "needs_background": "light"
     },
     "output_type": "display_data"
    }
   ],
   "source": [
    "grafico_barra_com_porcentagem(df_covid,'Ja vacinou? Se sim, Qual Vacina?', \"Vacina\")"
   ]
  },
  {
   "cell_type": "markdown",
   "metadata": {},
   "source": [
    "Apenas 1.18 % da base possuem a informação sobre a vacina"
   ]
  }
 ],
 "metadata": {
  "interpreter": {
   "hash": "aee8b7b246df8f9039afb4144a1f6fd8d2ca17a180786b69acc140d282b71a49"
  },
  "kernelspec": {
   "display_name": "Python 3 (ipykernel)",
   "language": "python",
   "name": "python3"
  },
  "language_info": {
   "codemirror_mode": {
    "name": "ipython",
    "version": 3
   },
   "file_extension": ".py",
   "mimetype": "text/x-python",
   "name": "python",
   "nbconvert_exporter": "python",
   "pygments_lexer": "ipython3",
   "version": "3.9.10"
  }
 },
 "nbformat": 4,
 "nbformat_minor": 2
}
