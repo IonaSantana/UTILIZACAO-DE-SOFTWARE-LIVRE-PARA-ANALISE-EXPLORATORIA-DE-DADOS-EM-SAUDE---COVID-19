{
 "cells": [
  {
   "cell_type": "markdown",
   "metadata": {},
   "source": [
    "# Bibliotecas"
   ]
  },
  {
   "cell_type": "code",
   "execution_count": 110,
   "metadata": {},
   "outputs": [],
   "source": [
    "import pandas as pd ## é usado \"as\" para dar uma apelido para a biblioteca, sendo mais fácil de utilizar no código depois\n",
    "import matplotlib.pyplot as plt\n",
    "import numpy as np"
   ]
  },
  {
   "cell_type": "markdown",
   "metadata": {},
   "source": [
    "### Pandas"
   ]
  },
  {
   "cell_type": "markdown",
   "metadata": {},
   "source": [
    "Trabalha com dados tabulares, ou seja, planilhas.\n",
    "\n",
    "Podendo manipular os dados, como: tabelas do excel"
   ]
  },
  {
   "cell_type": "markdown",
   "metadata": {},
   "source": [
    "### Numpy"
   ]
  },
  {
   "cell_type": "markdown",
   "metadata": {},
   "source": [
    "Para lidar com vetores;\n",
    "\n",
    "Veloz;"
   ]
  },
  {
   "cell_type": "markdown",
   "metadata": {},
   "source": [
    "### Matplotlib"
   ]
  },
  {
   "cell_type": "markdown",
   "metadata": {},
   "source": [
    "Permite criar gráficos estáticos, animados e iterativos."
   ]
  },
  {
   "cell_type": "markdown",
   "metadata": {},
   "source": [
    "### Seaborn"
   ]
  },
  {
   "cell_type": "markdown",
   "metadata": {},
   "source": [
    "Também é destinada a visualização dos dados, baseada no matplotlib.\n",
    "\n",
    "Mas, focada em gráficos estatísticos."
   ]
  },
  {
   "cell_type": "markdown",
   "metadata": {},
   "source": [
    "### Links"
   ]
  },
  {
   "cell_type": "markdown",
   "metadata": {},
   "source": [
    "https://pandas.pydata.org/\n",
    "\n",
    "https://matplotlib.org/\n",
    "\n",
    "https://numpy.org/\n",
    "\n",
    "https://seaborn.pydata.org/\n",
    "\n",
    "Gráficos: https://chartio.com/learn/charts/line-chart-complete-guide/"
   ]
  },
  {
   "cell_type": "markdown",
   "metadata": {},
   "source": [
    "# Funções"
   ]
  },
  {
   "cell_type": "markdown",
   "metadata": {},
   "source": [
    "Compilado com algumas funções úteis.\n",
    "\n",
    "Como:\n",
    "\n",
    "    1 - Gráfico de pizza\n",
    "\n",
    "    2 - Gráfico de linha.\n",
    "\n",
    "    3 - Histograma (Esse foi usado direto no arquivo da análise)\n",
    "\n",
    "    4 - Gráfico de barras"
   ]
  },
  {
   "cell_type": "markdown",
   "metadata": {},
   "source": [
    "### Descrição dos gráficos"
   ]
  },
  {
   "cell_type": "markdown",
   "metadata": {},
   "source": [
    "#### Histograma"
   ]
  },
  {
   "cell_type": "markdown",
   "metadata": {},
   "source": [
    "\"m histograma é uma espécie de gráfico de barras que demonstra uma distribuição de frequências. No histograma, a base de cada uma das barras representa uma classe e a altura representa a quantidade ou frequência absoluta com que o valor de cada classe ocorre\"\n",
    "\n",
    "https://www.alura.com.br/artigos/o-que-e-um-histograma#:~:text=Um%20histograma%20%C3%A9%20uma%20esp%C3%A9cie,valor%20de%20cada%20classe%20ocorre."
   ]
  },
  {
   "cell_type": "markdown",
   "metadata": {},
   "source": [
    "#### Pizza"
   ]
  },
  {
   "cell_type": "markdown",
   "metadata": {},
   "source": [
    "\"O gráfico de setores, comumente chamado de gráfico de pizza, é uma visualização que representa um valor relativo de cada categoria estabelecida em relação a um todo.\" \n",
    "\n",
    "https://www.alura.com.br/artigos/grafico-de-pizza#:~:text=O%20gr%C3%A1fico%20de%20setores%2C%20comumente,em%20rela%C3%A7%C3%A3o%20a%20um%20todo."
   ]
  },
  {
   "cell_type": "markdown",
   "metadata": {},
   "source": [
    "#### Linha"
   ]
  },
  {
   "cell_type": "markdown",
   "metadata": {},
   "source": [
    "\"Um gráfico de linhas exibe uma série como um conjunto de pontos conectado por uma linha em um relatório paginado. As linhas de gráfico são usadas para representar grandes quantidades de dados que ocorrem em um período de tempo contínuo\"\n",
    "\n",
    "https://docs.microsoft.com/pt-br/sql/reporting-services/report-design/line-charts-report-builder-and-ssrs?view=sql-server-ver15"
   ]
  },
  {
   "cell_type": "markdown",
   "metadata": {},
   "source": [
    "### Barra"
   ]
  },
  {
   "cell_type": "markdown",
   "metadata": {},
   "source": [
    "\"Um gráfico de barras é uma forma de resumir um conjunto de dados categóricos. Ele mostra os dados utilizando um número de barras de mesma largura, cada uma delas representando uma categoria particular. A altura de cada barra é proporcional a uma agregação específica (por ex., a soma dos valores na categoria que representa). As categorias podem ser algo como um grupo de idade ou uma localização geográfica.\"\n",
    "\n",
    "https://docs.tibco.com/pub/spotfire_web_player/6.0.0-november-2013/pt-BR/WebHelp/GUID-6023CECC-E502-4AE1-B5C5-FFE5DAF6FAE2.html"
   ]
  },
  {
   "cell_type": "markdown",
   "metadata": {},
   "source": [
    "### Funções"
   ]
  },
  {
   "cell_type": "code",
   "execution_count": 111,
   "metadata": {},
   "outputs": [],
   "source": [
    "def grafico_pizza(df, column): \n",
    "    columns = df[column].unique()\n",
    "    lista_prop = []\n",
    "    lista_nome = []\n",
    "    for i in columns:\n",
    "        lista_nome.append(i)\n",
    "        lista_prop.append(len(df[df[column] == i])/ df.shape[0])\n",
    "    fig, ax = plt.subplots()\n",
    "    ax.pie(lista_prop, labels=lista_nome, autopct='%1.1f%%')\n",
    "    ax.axis('equal')\n",
    "\n",
    "    #título do gráfico\n",
    "    plt.title(column, size = 20)\n",
    "    \n",
    "    #mostrar o gráfico\n",
    "    plt.show()"
   ]
  },
  {
   "cell_type": "code",
   "execution_count": 112,
   "metadata": {},
   "outputs": [],
   "source": [
    "def grafico_barra(df, column, titulo): #para mostrar em relação a uma coluna\n",
    "\n",
    "    eixo_y = list(df[column].value_counts())\n",
    "    eixo_x = df[column].value_counts().index.tolist()\n",
    "\n",
    "    color = gerar_lista_cores(len(eixo_x))#gerar cores aleatórias\n",
    "    plt.bar(eixo_x, eixo_y, color = color) #barras, eixo x e eixo y\n",
    "\n",
    "    plt.xticks(eixo_x) #nomes de cada barra no eixo x\n",
    "\n",
    "    plt.ylabel(column) #nome do eixo y\n",
    "\n",
    "    #título do gráfico\n",
    "    plt.title(titulo)\n",
    "\n",
    "    #mostrar o gráfico\n",
    "    plt.show()\n"
   ]
  },
  {
   "cell_type": "code",
   "execution_count": 113,
   "metadata": {},
   "outputs": [],
   "source": [
    "import random\n",
    "def gerar_lista_cores(qt):\n",
    "    color = []\n",
    "    for i in range(0,qt):  \n",
    "        aux = list(np.random.choice(range(256), size=3))\n",
    "        for i in range(0,3):\n",
    "            aux[i] = aux[i]/255\n",
    "        color.append(aux)\n",
    "    return color"
   ]
  },
  {
   "cell_type": "code",
   "execution_count": 114,
   "metadata": {},
   "outputs": [],
   "source": [
    "def grafico_barra_com_porcentagem_2(eixo_x,eixo_y, titulo, tamanho, figsize): #passando os valores de x e y\n",
    " \n",
    "    # calcula a porcentagem de cada valor\n",
    "    porcentagem = []\n",
    "    porcentagem = list(eixo_y / tamanho * 100)\n",
    "\n",
    "    color = gerar_lista_cores(len(eixo_x))\n",
    "    plt.figure(figsize=figsize)\n",
    "    plt.title(titulo)\n",
    "    grafico = plt.bar(eixo_x, eixo_y, color = color) #barras, eixo x e eixo y\n",
    "    \n",
    "    #para colocar a porcentagem em cima das barras\n",
    "    i = 0\n",
    "    for p in grafico:\n",
    "        width = p.get_width()\n",
    "        height = p.get_height()\n",
    "        x, y = p.get_xy()\n",
    "        plt.text(x+width/2,\n",
    "                y+height*1.01,\n",
    "                str(round(porcentagem[i],2))+f'% - {eixo_y[i]}',\n",
    "                ha='center',\n",
    "                weight='bold')\n",
    "        i+=1\n",
    "    \n",
    "    plt.show()\n"
   ]
  },
  {
   "cell_type": "code",
   "execution_count": 118,
   "metadata": {},
   "outputs": [],
   "source": [
    "def grafico_barra_com_porcentagem(df, column_, titulo, figsize = (15,10)): #para colunas que possuem apenas valores SIM e NÃO\n",
    " \n",
    "    # calcula a porcentagem de cada valor\n",
    "    porcentagem = []\n",
    "    eixo_y = list(df[column_].value_counts())\n",
    "    eixo_x = df[column_].value_counts().index.tolist()\n",
    "    porcentagem = list(df[column_].value_counts() / ((df[column_].dropna()).shape[0]) * 100)\n",
    "\n",
    "    color = gerar_lista_cores(len(eixo_x))\n",
    "    plt.figure(figsize=figsize)\n",
    "    plt.title(titulo)\n",
    "    grafico = plt.bar(eixo_x, eixo_y, color = color) #barras, eixo x e eixo y\n",
    "    \n",
    "    #para colocar a porcentagem em cima das barras\n",
    "    i = 0\n",
    "    for p in grafico:\n",
    "        width = p.get_width()\n",
    "        height = p.get_height()\n",
    "        x, y = p.get_xy()\n",
    "        plt.text(x+width/2,\n",
    "                y+height*1.01,\n",
    "                str(round(porcentagem[i],2))+f'% - {eixo_y[i]}',\n",
    "                ha='center',\n",
    "                weight='bold')\n",
    "        i+=1\n",
    "    \n",
    "    plt.show()\n"
   ]
  },
  {
   "cell_type": "code",
   "execution_count": 116,
   "metadata": {},
   "outputs": [],
   "source": [
    "def visualizar_valores_unicos_coluna(df, colunas):\n",
    "    for col in colunas:\n",
    "        print(df[col].unique())"
   ]
  }
 ],
 "metadata": {
  "interpreter": {
   "hash": "aee8b7b246df8f9039afb4144a1f6fd8d2ca17a180786b69acc140d282b71a49"
  },
  "kernelspec": {
   "display_name": "Python 3.9.10 64-bit",
   "language": "python",
   "name": "python3"
  },
  "language_info": {
   "codemirror_mode": {
    "name": "ipython",
    "version": 3
   },
   "file_extension": ".py",
   "mimetype": "text/x-python",
   "name": "python",
   "nbconvert_exporter": "python",
   "pygments_lexer": "ipython3",
   "version": "3.9.10"
  },
  "orig_nbformat": 4
 },
 "nbformat": 4,
 "nbformat_minor": 2
}
